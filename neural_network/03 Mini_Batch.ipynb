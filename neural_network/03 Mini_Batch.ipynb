{
 "cells": [
  {
   "cell_type": "code",
   "execution_count": 308,
   "metadata": {},
   "outputs": [],
   "source": [
    "%config InlineBackend.figure_formats = ['svg']"
   ]
  },
  {
   "cell_type": "code",
   "execution_count": 309,
   "metadata": {},
   "outputs": [],
   "source": [
    "import numpy as np\n",
    "import matplotlib.pyplot as plt\n",
    "from tqdm import tqdm"
   ]
  },
  {
   "cell_type": "code",
   "execution_count": 310,
   "metadata": {},
   "outputs": [],
   "source": [
    "class Layer(object):\n",
    "\n",
    "    def forward(self, x):\n",
    "        pass\n",
    "\n",
    "    def backward(self, dy):\n",
    "        pass\n",
    "\n",
    "    def update(self, lr=0.1):\n",
    "        pass"
   ]
  },
  {
   "cell_type": "code",
   "execution_count": 321,
   "metadata": {},
   "outputs": [],
   "source": [
    "class LinearLayer(Layer):\n",
    "\n",
    "    def __init__(self, input, output) -> None:\n",
    "        self.w = np.random.normal(\n",
    "            loc=0.0,\n",
    "            scale=pow(input, -0.5),\n",
    "            size=(input, output)\n",
    "        )\n",
    "        self.dw = self.w * 0.1\n",
    "\n",
    "    def forward(self, x):\n",
    "        self.x = x\n",
    "        y = np.dot(x, self.w)\n",
    "        return y\n",
    "\n",
    "    def backward(self, dy):\n",
    "        dx = np.dot(dy, self.w.T)\n",
    "        if dy.ndim == 1:\n",
    "            self.dw = np.dot(self.x.reshape(-1, 1), dy.reshape(1, -1))\n",
    "        else:\n",
    "            self.dw = np.dot(self.x.T, dy)\n",
    "\n",
    "        return dx\n",
    "\n",
    "    def update(self, lr=0.1):\n",
    "        self.w += lr * self.dw"
   ]
  },
  {
   "cell_type": "code",
   "execution_count": 312,
   "metadata": {},
   "outputs": [],
   "source": [
    "x = np.array([\n",
    "    [0.01, 0.01],\n",
    "    [0.01, 0.99],\n",
    "    [0.99, 0.01],\n",
    "    [0.99, 0.99],\n",
    "])\n",
    "t = np.array([\n",
    "    [0.99, 0.01],\n",
    "    [0.99, 0.01],\n",
    "    [0.99, 0.01],\n",
    "    [0.01, 0.99],\n",
    "])"
   ]
  },
  {
   "cell_type": "code",
   "execution_count": 313,
   "metadata": {},
   "outputs": [],
   "source": [
    "layer = LinearLayer(2, 2)"
   ]
  },
  {
   "cell_type": "code",
   "execution_count": 314,
   "metadata": {},
   "outputs": [
    {
     "name": "stdout",
     "output_type": "stream",
     "text": [
      "y:  [[ 0.00657999 -0.0122947 ]\n",
      " [ 0.37081061 -0.95137739]\n",
      " [ 0.28718847 -0.27809218]\n",
      " [ 0.6514191  -1.21717488]]\n",
      "t:  [[0.99 0.01]\n",
      " [0.99 0.01]\n",
      " [0.99 0.01]\n",
      " [0.01 0.99]]\n",
      "loss:  [[ 0.98342001  0.0222947 ]\n",
      " [ 0.61918939  0.96137739]\n",
      " [ 0.70281153  0.28809218]\n",
      " [-0.6414191   2.20717488]]\n",
      "dw: [[ 0.02446029  0.78986443]\n",
      " [-0.00163858  1.        ]]\n",
      "y:  [[ 0.00635177 -0.03019334]\n",
      " [ 0.37218821 -1.94927604]\n",
      " [ 0.26298917 -1.07005797]\n",
      " [ 0.6288256  -2.98914067]]\n"
     ]
    }
   ],
   "source": [
    "y = layer.forward(x)\n",
    "print(\"y: \", y)\n",
    "print(\"t: \", t)\n",
    "\n",
    "loss = t - y\n",
    "print(\"loss: \", loss)\n",
    "\n",
    "layer.backward(loss)\n",
    "# print(\"dy: \", dy)\n",
    "print('dw:', layer.dw)\n",
    "\n",
    "layer.w -= layer.dw\n",
    "y = layer.forward(x)\n",
    "print(\"y: \", y)"
   ]
  },
  {
   "cell_type": "code",
   "execution_count": 322,
   "metadata": {},
   "outputs": [],
   "source": [
    "class SigmoidLayer(Layer):\n",
    "\n",
    "    def forward(self, x):\n",
    "        # scipy.special.expit(x)\n",
    "        self.y = 1 / (1 + np.exp(-x))\n",
    "        return self.y\n",
    "\n",
    "    def backward(self, dy):\n",
    "        dx = dy * (1.0 - self.y) * self.y\n",
    "        return dx"
   ]
  },
  {
   "cell_type": "code",
   "execution_count": 331,
   "metadata": {},
   "outputs": [],
   "source": [
    "class NeuralNetwork(object):\n",
    "\n",
    "    def __init__(self, input, hidden, output) -> None:\n",
    "        self.layers = [\n",
    "            LinearLayer(input, hidden),\n",
    "            SigmoidLayer(),\n",
    "            LinearLayer(hidden, output),\n",
    "            SigmoidLayer(),\n",
    "        ]\n",
    "\n",
    "    def forward(self, x: np.ndarray):\n",
    "        for layer in self.layers:\n",
    "            x = layer.forward(x)\n",
    "        return x\n",
    "\n",
    "    def backward(self, dy):\n",
    "        for layer in self.layers[::-1]:\n",
    "            dy = layer.backward(dy)\n",
    "        return dy\n",
    "\n",
    "    def update(self, lr=0.1):\n",
    "        for layer in self.layers[::-1]:\n",
    "            layer.update(lr)"
   ]
  },
  {
   "cell_type": "code",
   "execution_count": 341,
   "metadata": {},
   "outputs": [
    {
     "name": "stdout",
     "output_type": "stream",
     "text": [
      "x: [[0.01 0.01]\n",
      " [0.01 0.99]\n",
      " [0.99 0.01]\n",
      " [0.99 0.99]]\n",
      "t: [[0.99 0.01]\n",
      " [0.01 0.99]\n",
      " [0.01 0.99]\n",
      " [0.99 0.01]]\n",
      "y: [[0.4606262  0.36124101]\n",
      " [0.46642679 0.39675836]\n",
      " [0.455298   0.35801365]\n",
      " [0.4669981  0.38802752]]\n"
     ]
    },
    {
     "name": "stderr",
     "output_type": "stream",
     "text": [
      "100%|██████████| 1000000/1000000 [00:39<00:00, 25560.46it/s, loss=1.79e-08]"
     ]
    },
    {
     "name": "stdout",
     "output_type": "stream",
     "text": [
      "x: [[0.01 0.01]\n",
      " [0.01 0.99]\n",
      " [0.99 0.01]\n",
      " [0.99 0.99]]\n",
      "t: [[0.99 0.01]\n",
      " [0.01 0.99]\n",
      " [0.01 0.99]\n",
      " [0.99 0.01]]\n",
      "y: [[0.98994353 0.01005789]\n",
      " [0.0100433  0.98995651]\n",
      " [0.01004635 0.98995348]\n",
      " [0.9899602  0.01003887]]\n"
     ]
    },
    {
     "name": "stderr",
     "output_type": "stream",
     "text": [
      "\n"
     ]
    }
   ],
   "source": [
    "net = NeuralNetwork(2, 30, 2)\n",
    "\n",
    "x_batch = np.array([\n",
    "    [0.01, 0.01],\n",
    "    [0.01, 0.99],\n",
    "    [0.99, 0.01],\n",
    "    [0.99, 0.99],\n",
    "])\n",
    "t_batch = np.array([\n",
    "    [0.99, 0.01],\n",
    "    [0.01, 0.99],\n",
    "    [0.01, 0.99],\n",
    "    [0.99, 0.01],\n",
    "])\n",
    "\n",
    "y = net.forward(x_batch)\n",
    "print('x:', x_batch)\n",
    "print('t:', t_batch)\n",
    "print(\"y:\", y)\n",
    "\n",
    "epoch = 1000000\n",
    "bar = tqdm(range(epoch))\n",
    "for i in bar:\n",
    "    # for i in range(4):\n",
    "    y = net.forward(x_batch)\n",
    "    dy = t_batch - y\n",
    "\n",
    "    if i % 1000 == 0:\n",
    "        loss = np.sum(dy ** 2)\n",
    "        bar.set_postfix(dict(loss=f\"{loss:0.3}\"))\n",
    "\n",
    "    dx = net.backward(dy)\n",
    "    net.update()\n",
    "\n",
    "\n",
    "y = net.forward(x_batch)\n",
    "print('x:', x_batch)\n",
    "print('t:', t_batch)\n",
    "print(\"y:\", y)\n"
   ]
  }
 ],
 "metadata": {
  "kernelspec": {
   "display_name": "test",
   "language": "python",
   "name": "python3"
  },
  "language_info": {
   "codemirror_mode": {
    "name": "ipython",
    "version": 3
   },
   "file_extension": ".py",
   "mimetype": "text/x-python",
   "name": "python",
   "nbconvert_exporter": "python",
   "pygments_lexer": "ipython3",
   "version": "3.7.2"
  },
  "orig_nbformat": 4,
  "vscode": {
   "interpreter": {
    "hash": "f4a7866b55a66abc857b03408de44c5c223dfa656b814ba5aeb66f9babea1100"
   }
  }
 },
 "nbformat": 4,
 "nbformat_minor": 2
}
