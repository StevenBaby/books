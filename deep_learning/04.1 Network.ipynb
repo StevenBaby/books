{
 "cells": [
  {
   "cell_type": "code",
   "execution_count": 1,
   "metadata": {},
   "outputs": [],
   "source": [
    "%config InlineBackend.figure_formats = ['svg']\n",
    "%load_ext autoreload\n",
    "%autoreload 2"
   ]
  },
  {
   "cell_type": "code",
   "execution_count": 2,
   "metadata": {},
   "outputs": [],
   "source": [
    "import numpy as np\n",
    "import matplotlib.pyplot as plt\n",
    "import dataset\n",
    "import learning"
   ]
  },
  {
   "attachments": {},
   "cell_type": "markdown",
   "metadata": {},
   "source": [
    "## 神经网络的梯度"
   ]
  },
  {
   "cell_type": "code",
   "execution_count": 3,
   "metadata": {},
   "outputs": [
    {
     "data": {
      "text/plain": [
       "array([2., 3., 4.])"
      ]
     },
     "execution_count": 3,
     "metadata": {},
     "output_type": "execute_result"
    }
   ],
   "source": [
    "x = np.array([2.0, 3.0, 4.0])\n",
    "x"
   ]
  },
  {
   "cell_type": "code",
   "execution_count": 4,
   "metadata": {},
   "outputs": [
    {
     "data": {
      "text/plain": [
       "array([[1., 2.],\n",
       "       [1., 2.],\n",
       "       [1., 2.]])"
      ]
     },
     "execution_count": 4,
     "metadata": {},
     "output_type": "execute_result"
    }
   ],
   "source": [
    "w = np.array([\n",
    "    [1.0, 2.0],\n",
    "    [1.0, 2.0],\n",
    "    [1.0, 2.0],\n",
    "])\n",
    "w"
   ]
  },
  {
   "cell_type": "code",
   "execution_count": 5,
   "metadata": {},
   "outputs": [
    {
     "data": {
      "text/plain": [
       "(3, 2)"
      ]
     },
     "execution_count": 5,
     "metadata": {},
     "output_type": "execute_result"
    }
   ],
   "source": [
    "w.shape"
   ]
  },
  {
   "cell_type": "code",
   "execution_count": 6,
   "metadata": {},
   "outputs": [
    {
     "data": {
      "text/plain": [
       "array([ 9., 18.])"
      ]
     },
     "execution_count": 6,
     "metadata": {},
     "output_type": "execute_result"
    }
   ],
   "source": [
    "np.dot(x, w)"
   ]
  },
  {
   "cell_type": "code",
   "execution_count": 7,
   "metadata": {},
   "outputs": [],
   "source": [
    "class SimpleLayer(object):\n",
    "\n",
    "    def __init__(self, input: int, output: int) -> None:\n",
    "        self.w = np.random.randn(input, output)  # 高斯分布的权重\n",
    "\n",
    "    def forward(self, x):\n",
    "        return np.dot(x, self.w)\n",
    "    \n",
    "    def loss(self, x, t):\n",
    "        z = self.forward(x)\n",
    "        y = learning.softmax(z)\n",
    "        loss = learning.cross_entropy_error(y, t)\n",
    "        return loss\n"
   ]
  },
  {
   "cell_type": "code",
   "execution_count": 8,
   "metadata": {},
   "outputs": [
    {
     "data": {
      "text/plain": [
       "<__main__.SimpleLayer at 0x20fc29bb860>"
      ]
     },
     "execution_count": 8,
     "metadata": {},
     "output_type": "execute_result"
    }
   ],
   "source": [
    "net = SimpleLayer(2, 3)\n",
    "net"
   ]
  },
  {
   "cell_type": "code",
   "execution_count": 9,
   "metadata": {},
   "outputs": [
    {
     "data": {
      "text/plain": [
       "(array([8., 9.]), array([1]))"
      ]
     },
     "execution_count": 9,
     "metadata": {},
     "output_type": "execute_result"
    }
   ],
   "source": [
    "t = np.array([1])\n",
    "x = np.array([8.0, 9.0])\n",
    "x, t"
   ]
  },
  {
   "cell_type": "code",
   "execution_count": 10,
   "metadata": {},
   "outputs": [
    {
     "data": {
      "text/plain": [
       "array([-1.12012559, -3.76626048, -4.88414689])"
      ]
     },
     "execution_count": 10,
     "metadata": {},
     "output_type": "execute_result"
    }
   ],
   "source": [
    "net.forward(x)"
   ]
  },
  {
   "cell_type": "code",
   "execution_count": 11,
   "metadata": {},
   "outputs": [
    {
     "data": {
      "text/plain": [
       "2.7360792624936274"
      ]
     },
     "execution_count": 11,
     "metadata": {},
     "output_type": "execute_result"
    }
   ],
   "source": [
    "net.loss(x, t)"
   ]
  },
  {
   "cell_type": "code",
   "execution_count": 12,
   "metadata": {},
   "outputs": [],
   "source": [
    "def gradient(f, x):\n",
    "    h = 1e-4  # 0.0001\n",
    "    grad = np.zeros_like(x)  # 生成和x形状相同的数组\n",
    "\n",
    "    it = np.nditer(x, flags=['multi_index'], op_flags=['readwrite'])\n",
    "    while not it.finished:\n",
    "        idx = it.multi_index\n",
    "\n",
    "        tmp_val = x[idx]\n",
    "\n",
    "        # f(x+h)的计算\n",
    "        x[idx] = tmp_val + h\n",
    "        fxh1 = f(x)\n",
    "\n",
    "        # f(x-h)的计算\n",
    "        x[idx] = tmp_val - h\n",
    "        fxh2 = f(x)\n",
    "        grad[idx] = (fxh1 - fxh2) / (2 * h)\n",
    "\n",
    "        x[idx] = tmp_val  # 还原值\n",
    "        it.iternext()\n",
    "\n",
    "    return grad\n"
   ]
  },
  {
   "cell_type": "code",
   "execution_count": 13,
   "metadata": {},
   "outputs": [
    {
     "data": {
      "text/plain": [
       "array([[ 7.31183355, -7.48139716,  0.16956361],\n",
       "       [ 8.22581273, -8.41657179,  0.19075907]])"
      ]
     },
     "execution_count": 13,
     "metadata": {},
     "output_type": "execute_result"
    }
   ],
   "source": [
    "dw = gradient(lambda w: net.loss(x, t), net.w)\n",
    "dw"
   ]
  },
  {
   "attachments": {},
   "cell_type": "markdown",
   "metadata": {},
   "source": [
    "## 学习算法的实现"
   ]
  },
  {
   "attachments": {},
   "cell_type": "markdown",
   "metadata": {},
   "source": [
    "### 随机梯度下降"
   ]
  },
  {
   "cell_type": "code",
   "execution_count": 14,
   "metadata": {},
   "outputs": [],
   "source": [
    "class TwoLayer(object):\n",
    "\n",
    "    def __init__(self, input, hidden, output) -> None:\n",
    "        self.w1 = np.random.randn(input, hidden)\n",
    "        self.b1 = np.zeros(hidden)\n",
    "        self.w2 = np.random.randn(hidden, output)\n",
    "        self.b2 = np.zeros(output)\n",
    "\n",
    "    def forward(self, x):\n",
    "        a1 = np.dot(x, self.w1) + self.b1\n",
    "        z1 = learning.sigmoid(a1)\n",
    "        a2 = np.dot(z1, self.w2) + self.b2\n",
    "        return learning.softmax(a2)\n",
    "\n",
    "    def loss(self, x, t):\n",
    "        y = self.forward(x)\n",
    "        return learning.cross_entropy_error(y, t)\n",
    "\n",
    "    def accuracy(self, x, t):\n",
    "        y = self.forward(x)\n",
    "        y = np.argmax(y, axis=1)\n",
    "\n",
    "        if t.ndim == 2:\n",
    "            t = np.argmax(t, axis=1)\n",
    "\n",
    "        return np.sum(y == t) / float(x.shape[0])\n",
    "\n",
    "    def gradient(self, x, t):\n",
    "\n",
    "        def lossw(w): return self.loss(x, t)\n",
    "\n",
    "        self.grad_w1 = gradient(lossw, self.w1)\n",
    "        self.grad_b1 = gradient(lossw, self.b1)\n",
    "        self.grad_w2 = gradient(lossw, self.w2)\n",
    "        self.grad_b2 = gradient(lossw, self.b2)\n"
   ]
  },
  {
   "cell_type": "code",
   "execution_count": 15,
   "metadata": {},
   "outputs": [
    {
     "data": {
      "text/plain": [
       "<__main__.TwoLayer at 0x20fc19b3cf8>"
      ]
     },
     "execution_count": 15,
     "metadata": {},
     "output_type": "execute_result"
    }
   ],
   "source": [
    "net = TwoLayer(2, 4, 1)\n",
    "net"
   ]
  },
  {
   "cell_type": "code",
   "execution_count": 16,
   "metadata": {},
   "outputs": [
    {
     "data": {
      "text/plain": [
       "(array([0., 0.]), array([0]))"
      ]
     },
     "execution_count": 16,
     "metadata": {},
     "output_type": "execute_result"
    }
   ],
   "source": [
    "x = np.array([0.0, 0.0])\n",
    "t = np.array([0])\n",
    "x, t"
   ]
  },
  {
   "cell_type": "code",
   "execution_count": 17,
   "metadata": {},
   "outputs": [],
   "source": [
    "net.gradient(x, t)"
   ]
  },
  {
   "cell_type": "code",
   "execution_count": 18,
   "metadata": {},
   "outputs": [
    {
     "data": {
      "text/plain": [
       "array([1.])"
      ]
     },
     "execution_count": 18,
     "metadata": {},
     "output_type": "execute_result"
    }
   ],
   "source": [
    "y = net.forward(x)\n",
    "y"
   ]
  },
  {
   "attachments": {},
   "cell_type": "markdown",
   "metadata": {},
   "source": [
    "## 训练一个异或"
   ]
  },
  {
   "cell_type": "code",
   "execution_count": 19,
   "metadata": {},
   "outputs": [
    {
     "data": {
      "text/plain": [
       "array([[0., 0.],\n",
       "       [0., 1.],\n",
       "       [1., 0.],\n",
       "       [1., 1.]])"
      ]
     },
     "execution_count": 19,
     "metadata": {},
     "output_type": "execute_result"
    }
   ],
   "source": [
    "x_train = np.array([\n",
    "    [0.0, 0.0],\n",
    "    [0.0, 1.0],\n",
    "    [1.0, 0.0],\n",
    "    [1.0, 1.0],\n",
    "])\n",
    "x_train"
   ]
  },
  {
   "cell_type": "code",
   "execution_count": 20,
   "metadata": {},
   "outputs": [
    {
     "data": {
      "text/plain": [
       "array([0, 1, 1, 0])"
      ]
     },
     "execution_count": 20,
     "metadata": {},
     "output_type": "execute_result"
    }
   ],
   "source": [
    "t_train = np.array([\n",
    "    0,\n",
    "    1,\n",
    "    1,\n",
    "    0\n",
    "])\n",
    "t_train"
   ]
  },
  {
   "cell_type": "code",
   "execution_count": 21,
   "metadata": {},
   "outputs": [],
   "source": [
    "net = TwoLayer(2, 30, 2)"
   ]
  },
  {
   "cell_type": "code",
   "execution_count": 22,
   "metadata": {},
   "outputs": [],
   "source": [
    "from tqdm import tqdm"
   ]
  },
  {
   "cell_type": "code",
   "execution_count": 23,
   "metadata": {},
   "outputs": [
    {
     "name": "stderr",
     "output_type": "stream",
     "text": [
      "100%|██████████| 1000/1000 [00:19<00:00, 50.50it/s, acc=100.00%, loss=1.399, lr=0.001]\n"
     ]
    }
   ],
   "source": [
    "epoch = 1000\n",
    "lr = 0.1\n",
    "\n",
    "x_batch = x_train\n",
    "t_batch = t_train\n",
    "\n",
    "loss_list = []\n",
    "\n",
    "bar = tqdm(range(epoch))\n",
    "\n",
    "for e in bar:\n",
    "\n",
    "    net.gradient(x_batch, t_batch)\n",
    "\n",
    "    for key in ('w1', 'b1', 'w2', 'b2'):\n",
    "        attr = getattr(net, key)\n",
    "        grad = getattr(net, f'grad_{key}')\n",
    "        attr -= lr * grad\n",
    "\n",
    "    loss = net.loss(x_batch, t_batch)\n",
    "    loss_list.append(loss)\n",
    "\n",
    "    lr = loss * 0.5 * (epoch - e) / epoch\n",
    "\n",
    "    acc = net.accuracy(x_batch, t_batch) * 100\n",
    "\n",
    "    bar.set_postfix(dict(acc=f'{acc:.2f}%', loss=f'{loss:.3f}', lr=f'{lr:.3f}'))"
   ]
  },
  {
   "cell_type": "code",
   "execution_count": 24,
   "metadata": {},
   "outputs": [
    {
     "name": "stdout",
     "output_type": "stream",
     "text": [
      "[0. 0.] [0.99093773 0.00906227] 0\n",
      "[0. 1.] [0.01115737 0.98884263] 1\n",
      "[1. 0.] [0.01229811 0.98770189] 1\n",
      "[1. 1.] [0.98334784 0.01665216] 0\n"
     ]
    }
   ],
   "source": [
    "for x in x_train:\n",
    "    y = net.forward(x)\n",
    "    print(x, y, np.argmax(y))"
   ]
  },
  {
   "cell_type": "code",
   "execution_count": 25,
   "metadata": {},
   "outputs": [
    {
     "data": {
      "image/svg+xml": "<?xml version=\"1.0\" encoding=\"utf-8\" standalone=\"no\"?>\n<!DOCTYPE svg PUBLIC \"-//W3C//DTD SVG 1.1//EN\"\n  \"http://www.w3.org/Graphics/SVG/1.1/DTD/svg11.dtd\">\n<svg xmlns:xlink=\"http://www.w3.org/1999/xlink\" width=\"362.5625pt\" height=\"248.518125pt\" viewBox=\"0 0 362.5625 248.518125\" xmlns=\"http://www.w3.org/2000/svg\" version=\"1.1\">\n <metadata>\n  <rdf:RDF xmlns:dc=\"http://purl.org/dc/elements/1.1/\" xmlns:cc=\"http://creativecommons.org/ns#\" xmlns:rdf=\"http://www.w3.org/1999/02/22-rdf-syntax-ns#\">\n   <cc:Work>\n    <dc:type rdf:resource=\"http://purl.org/dc/dcmitype/StillImage\"/>\n    <dc:date>2023-01-14T06:06:00.685196</dc:date>\n    <dc:format>image/svg+xml</dc:format>\n    <dc:creator>\n     <cc:Agent>\n      <dc:title>Matplotlib v3.5.1, https://matplotlib.org/</dc:title>\n     </cc:Agent>\n    </dc:creator>\n   </cc:Work>\n  </rdf:RDF>\n </metadata>\n <defs>\n  <style type=\"text/css\">*{stroke-linejoin: round; stroke-linecap: butt}</style>\n </defs>\n <g id=\"figure_1\">\n  <g id=\"patch_1\">\n   <path d=\"M 0 248.518125 \nL 362.5625 248.518125 \nL 362.5625 0 \nL 0 0 \nL 0 248.518125 \nz\n\" style=\"fill: none\"/>\n  </g>\n  <g id=\"axes_1\">\n   <g id=\"patch_2\">\n    <path d=\"M 20.5625 224.64 \nL 355.3625 224.64 \nL 355.3625 7.2 \nL 20.5625 7.2 \nz\n\" style=\"fill: #ffffff\"/>\n   </g>\n   <g id=\"matplotlib.axis_1\">\n    <g id=\"xtick_1\">\n     <g id=\"line2d_1\">\n      <defs>\n       <path id=\"m033ad807e2\" d=\"M 0 0 \nL 0 3.5 \n\" style=\"stroke: #000000; stroke-width: 0.8\"/>\n      </defs>\n      <g>\n       <use xlink:href=\"#m033ad807e2\" x=\"35.780682\" y=\"224.64\" style=\"stroke: #000000; stroke-width: 0.8\"/>\n      </g>\n     </g>\n     <g id=\"text_1\">\n      <!-- 0 -->\n      <g transform=\"translate(32.599432 239.238437)scale(0.1 -0.1)\">\n       <defs>\n        <path id=\"DejaVuSans-30\" d=\"M 2034 4250 \nQ 1547 4250 1301 3770 \nQ 1056 3291 1056 2328 \nQ 1056 1369 1301 889 \nQ 1547 409 2034 409 \nQ 2525 409 2770 889 \nQ 3016 1369 3016 2328 \nQ 3016 3291 2770 3770 \nQ 2525 4250 2034 4250 \nz\nM 2034 4750 \nQ 2819 4750 3233 4129 \nQ 3647 3509 3647 2328 \nQ 3647 1150 3233 529 \nQ 2819 -91 2034 -91 \nQ 1250 -91 836 529 \nQ 422 1150 422 2328 \nQ 422 3509 836 4129 \nQ 1250 4750 2034 4750 \nz\n\" transform=\"scale(0.015625)\"/>\n       </defs>\n       <use xlink:href=\"#DejaVuSans-30\"/>\n      </g>\n     </g>\n    </g>\n    <g id=\"xtick_2\">\n     <g id=\"line2d_2\">\n      <g>\n       <use xlink:href=\"#m033ad807e2\" x=\"96.714343\" y=\"224.64\" style=\"stroke: #000000; stroke-width: 0.8\"/>\n      </g>\n     </g>\n     <g id=\"text_2\">\n      <!-- 200 -->\n      <g transform=\"translate(87.170593 239.238437)scale(0.1 -0.1)\">\n       <defs>\n        <path id=\"DejaVuSans-32\" d=\"M 1228 531 \nL 3431 531 \nL 3431 0 \nL 469 0 \nL 469 531 \nQ 828 903 1448 1529 \nQ 2069 2156 2228 2338 \nQ 2531 2678 2651 2914 \nQ 2772 3150 2772 3378 \nQ 2772 3750 2511 3984 \nQ 2250 4219 1831 4219 \nQ 1534 4219 1204 4116 \nQ 875 4013 500 3803 \nL 500 4441 \nQ 881 4594 1212 4672 \nQ 1544 4750 1819 4750 \nQ 2544 4750 2975 4387 \nQ 3406 4025 3406 3419 \nQ 3406 3131 3298 2873 \nQ 3191 2616 2906 2266 \nQ 2828 2175 2409 1742 \nQ 1991 1309 1228 531 \nz\n\" transform=\"scale(0.015625)\"/>\n       </defs>\n       <use xlink:href=\"#DejaVuSans-32\"/>\n       <use xlink:href=\"#DejaVuSans-30\" x=\"63.623047\"/>\n       <use xlink:href=\"#DejaVuSans-30\" x=\"127.246094\"/>\n      </g>\n     </g>\n    </g>\n    <g id=\"xtick_3\">\n     <g id=\"line2d_3\">\n      <g>\n       <use xlink:href=\"#m033ad807e2\" x=\"157.648004\" y=\"224.64\" style=\"stroke: #000000; stroke-width: 0.8\"/>\n      </g>\n     </g>\n     <g id=\"text_3\">\n      <!-- 400 -->\n      <g transform=\"translate(148.104254 239.238437)scale(0.1 -0.1)\">\n       <defs>\n        <path id=\"DejaVuSans-34\" d=\"M 2419 4116 \nL 825 1625 \nL 2419 1625 \nL 2419 4116 \nz\nM 2253 4666 \nL 3047 4666 \nL 3047 1625 \nL 3713 1625 \nL 3713 1100 \nL 3047 1100 \nL 3047 0 \nL 2419 0 \nL 2419 1100 \nL 313 1100 \nL 313 1709 \nL 2253 4666 \nz\n\" transform=\"scale(0.015625)\"/>\n       </defs>\n       <use xlink:href=\"#DejaVuSans-34\"/>\n       <use xlink:href=\"#DejaVuSans-30\" x=\"63.623047\"/>\n       <use xlink:href=\"#DejaVuSans-30\" x=\"127.246094\"/>\n      </g>\n     </g>\n    </g>\n    <g id=\"xtick_4\">\n     <g id=\"line2d_4\">\n      <g>\n       <use xlink:href=\"#m033ad807e2\" x=\"218.581665\" y=\"224.64\" style=\"stroke: #000000; stroke-width: 0.8\"/>\n      </g>\n     </g>\n     <g id=\"text_4\">\n      <!-- 600 -->\n      <g transform=\"translate(209.037915 239.238437)scale(0.1 -0.1)\">\n       <defs>\n        <path id=\"DejaVuSans-36\" d=\"M 2113 2584 \nQ 1688 2584 1439 2293 \nQ 1191 2003 1191 1497 \nQ 1191 994 1439 701 \nQ 1688 409 2113 409 \nQ 2538 409 2786 701 \nQ 3034 994 3034 1497 \nQ 3034 2003 2786 2293 \nQ 2538 2584 2113 2584 \nz\nM 3366 4563 \nL 3366 3988 \nQ 3128 4100 2886 4159 \nQ 2644 4219 2406 4219 \nQ 1781 4219 1451 3797 \nQ 1122 3375 1075 2522 \nQ 1259 2794 1537 2939 \nQ 1816 3084 2150 3084 \nQ 2853 3084 3261 2657 \nQ 3669 2231 3669 1497 \nQ 3669 778 3244 343 \nQ 2819 -91 2113 -91 \nQ 1303 -91 875 529 \nQ 447 1150 447 2328 \nQ 447 3434 972 4092 \nQ 1497 4750 2381 4750 \nQ 2619 4750 2861 4703 \nQ 3103 4656 3366 4563 \nz\n\" transform=\"scale(0.015625)\"/>\n       </defs>\n       <use xlink:href=\"#DejaVuSans-36\"/>\n       <use xlink:href=\"#DejaVuSans-30\" x=\"63.623047\"/>\n       <use xlink:href=\"#DejaVuSans-30\" x=\"127.246094\"/>\n      </g>\n     </g>\n    </g>\n    <g id=\"xtick_5\">\n     <g id=\"line2d_5\">\n      <g>\n       <use xlink:href=\"#m033ad807e2\" x=\"279.515326\" y=\"224.64\" style=\"stroke: #000000; stroke-width: 0.8\"/>\n      </g>\n     </g>\n     <g id=\"text_5\">\n      <!-- 800 -->\n      <g transform=\"translate(269.971576 239.238437)scale(0.1 -0.1)\">\n       <defs>\n        <path id=\"DejaVuSans-38\" d=\"M 2034 2216 \nQ 1584 2216 1326 1975 \nQ 1069 1734 1069 1313 \nQ 1069 891 1326 650 \nQ 1584 409 2034 409 \nQ 2484 409 2743 651 \nQ 3003 894 3003 1313 \nQ 3003 1734 2745 1975 \nQ 2488 2216 2034 2216 \nz\nM 1403 2484 \nQ 997 2584 770 2862 \nQ 544 3141 544 3541 \nQ 544 4100 942 4425 \nQ 1341 4750 2034 4750 \nQ 2731 4750 3128 4425 \nQ 3525 4100 3525 3541 \nQ 3525 3141 3298 2862 \nQ 3072 2584 2669 2484 \nQ 3125 2378 3379 2068 \nQ 3634 1759 3634 1313 \nQ 3634 634 3220 271 \nQ 2806 -91 2034 -91 \nQ 1263 -91 848 271 \nQ 434 634 434 1313 \nQ 434 1759 690 2068 \nQ 947 2378 1403 2484 \nz\nM 1172 3481 \nQ 1172 3119 1398 2916 \nQ 1625 2713 2034 2713 \nQ 2441 2713 2670 2916 \nQ 2900 3119 2900 3481 \nQ 2900 3844 2670 4047 \nQ 2441 4250 2034 4250 \nQ 1625 4250 1398 4047 \nQ 1172 3844 1172 3481 \nz\n\" transform=\"scale(0.015625)\"/>\n       </defs>\n       <use xlink:href=\"#DejaVuSans-38\"/>\n       <use xlink:href=\"#DejaVuSans-30\" x=\"63.623047\"/>\n       <use xlink:href=\"#DejaVuSans-30\" x=\"127.246094\"/>\n      </g>\n     </g>\n    </g>\n    <g id=\"xtick_6\">\n     <g id=\"line2d_6\">\n      <g>\n       <use xlink:href=\"#m033ad807e2\" x=\"340.448986\" y=\"224.64\" style=\"stroke: #000000; stroke-width: 0.8\"/>\n      </g>\n     </g>\n     <g id=\"text_6\">\n      <!-- 1000 -->\n      <g transform=\"translate(327.723986 239.238437)scale(0.1 -0.1)\">\n       <defs>\n        <path id=\"DejaVuSans-31\" d=\"M 794 531 \nL 1825 531 \nL 1825 4091 \nL 703 3866 \nL 703 4441 \nL 1819 4666 \nL 2450 4666 \nL 2450 531 \nL 3481 531 \nL 3481 0 \nL 794 0 \nL 794 531 \nz\n\" transform=\"scale(0.015625)\"/>\n       </defs>\n       <use xlink:href=\"#DejaVuSans-31\"/>\n       <use xlink:href=\"#DejaVuSans-30\" x=\"63.623047\"/>\n       <use xlink:href=\"#DejaVuSans-30\" x=\"127.246094\"/>\n       <use xlink:href=\"#DejaVuSans-30\" x=\"190.869141\"/>\n      </g>\n     </g>\n    </g>\n   </g>\n   <g id=\"matplotlib.axis_2\">\n    <g id=\"ytick_1\">\n     <g id=\"line2d_7\">\n      <defs>\n       <path id=\"m76493d709a\" d=\"M 0 0 \nL -3.5 0 \n\" style=\"stroke: #000000; stroke-width: 0.8\"/>\n      </defs>\n      <g>\n       <use xlink:href=\"#m76493d709a\" x=\"20.5625\" y=\"197.392308\" style=\"stroke: #000000; stroke-width: 0.8\"/>\n      </g>\n     </g>\n     <g id=\"text_7\">\n      <!-- 2 -->\n      <g transform=\"translate(7.2 201.191527)scale(0.1 -0.1)\">\n       <use xlink:href=\"#DejaVuSans-32\"/>\n      </g>\n     </g>\n    </g>\n    <g id=\"ytick_2\">\n     <g id=\"line2d_8\">\n      <g>\n       <use xlink:href=\"#m76493d709a\" x=\"20.5625\" y=\"168.516359\" style=\"stroke: #000000; stroke-width: 0.8\"/>\n      </g>\n     </g>\n     <g id=\"text_8\">\n      <!-- 3 -->\n      <g transform=\"translate(7.2 172.315578)scale(0.1 -0.1)\">\n       <defs>\n        <path id=\"DejaVuSans-33\" d=\"M 2597 2516 \nQ 3050 2419 3304 2112 \nQ 3559 1806 3559 1356 \nQ 3559 666 3084 287 \nQ 2609 -91 1734 -91 \nQ 1441 -91 1130 -33 \nQ 819 25 488 141 \nL 488 750 \nQ 750 597 1062 519 \nQ 1375 441 1716 441 \nQ 2309 441 2620 675 \nQ 2931 909 2931 1356 \nQ 2931 1769 2642 2001 \nQ 2353 2234 1838 2234 \nL 1294 2234 \nL 1294 2753 \nL 1863 2753 \nQ 2328 2753 2575 2939 \nQ 2822 3125 2822 3475 \nQ 2822 3834 2567 4026 \nQ 2313 4219 1838 4219 \nQ 1578 4219 1281 4162 \nQ 984 4106 628 3988 \nL 628 4550 \nQ 988 4650 1302 4700 \nQ 1616 4750 1894 4750 \nQ 2613 4750 3031 4423 \nQ 3450 4097 3450 3541 \nQ 3450 3153 3228 2886 \nQ 3006 2619 2597 2516 \nz\n\" transform=\"scale(0.015625)\"/>\n       </defs>\n       <use xlink:href=\"#DejaVuSans-33\"/>\n      </g>\n     </g>\n    </g>\n    <g id=\"ytick_3\">\n     <g id=\"line2d_9\">\n      <g>\n       <use xlink:href=\"#m76493d709a\" x=\"20.5625\" y=\"139.64041\" style=\"stroke: #000000; stroke-width: 0.8\"/>\n      </g>\n     </g>\n     <g id=\"text_9\">\n      <!-- 4 -->\n      <g transform=\"translate(7.2 143.439629)scale(0.1 -0.1)\">\n       <use xlink:href=\"#DejaVuSans-34\"/>\n      </g>\n     </g>\n    </g>\n    <g id=\"ytick_4\">\n     <g id=\"line2d_10\">\n      <g>\n       <use xlink:href=\"#m76493d709a\" x=\"20.5625\" y=\"110.764461\" style=\"stroke: #000000; stroke-width: 0.8\"/>\n      </g>\n     </g>\n     <g id=\"text_10\">\n      <!-- 5 -->\n      <g transform=\"translate(7.2 114.56368)scale(0.1 -0.1)\">\n       <defs>\n        <path id=\"DejaVuSans-35\" d=\"M 691 4666 \nL 3169 4666 \nL 3169 4134 \nL 1269 4134 \nL 1269 2991 \nQ 1406 3038 1543 3061 \nQ 1681 3084 1819 3084 \nQ 2600 3084 3056 2656 \nQ 3513 2228 3513 1497 \nQ 3513 744 3044 326 \nQ 2575 -91 1722 -91 \nQ 1428 -91 1123 -41 \nQ 819 9 494 109 \nL 494 744 \nQ 775 591 1075 516 \nQ 1375 441 1709 441 \nQ 2250 441 2565 725 \nQ 2881 1009 2881 1497 \nQ 2881 1984 2565 2268 \nQ 2250 2553 1709 2553 \nQ 1456 2553 1204 2497 \nQ 953 2441 691 2322 \nL 691 4666 \nz\n\" transform=\"scale(0.015625)\"/>\n       </defs>\n       <use xlink:href=\"#DejaVuSans-35\"/>\n      </g>\n     </g>\n    </g>\n    <g id=\"ytick_5\">\n     <g id=\"line2d_11\">\n      <g>\n       <use xlink:href=\"#m76493d709a\" x=\"20.5625\" y=\"81.888512\" style=\"stroke: #000000; stroke-width: 0.8\"/>\n      </g>\n     </g>\n     <g id=\"text_11\">\n      <!-- 6 -->\n      <g transform=\"translate(7.2 85.687731)scale(0.1 -0.1)\">\n       <use xlink:href=\"#DejaVuSans-36\"/>\n      </g>\n     </g>\n    </g>\n    <g id=\"ytick_6\">\n     <g id=\"line2d_12\">\n      <g>\n       <use xlink:href=\"#m76493d709a\" x=\"20.5625\" y=\"53.012564\" style=\"stroke: #000000; stroke-width: 0.8\"/>\n      </g>\n     </g>\n     <g id=\"text_12\">\n      <!-- 7 -->\n      <g transform=\"translate(7.2 56.811782)scale(0.1 -0.1)\">\n       <defs>\n        <path id=\"DejaVuSans-37\" d=\"M 525 4666 \nL 3525 4666 \nL 3525 4397 \nL 1831 0 \nL 1172 0 \nL 2766 4134 \nL 525 4134 \nL 525 4666 \nz\n\" transform=\"scale(0.015625)\"/>\n       </defs>\n       <use xlink:href=\"#DejaVuSans-37\"/>\n      </g>\n     </g>\n    </g>\n    <g id=\"ytick_7\">\n     <g id=\"line2d_13\">\n      <g>\n       <use xlink:href=\"#m76493d709a\" x=\"20.5625\" y=\"24.136615\" style=\"stroke: #000000; stroke-width: 0.8\"/>\n      </g>\n     </g>\n     <g id=\"text_13\">\n      <!-- 8 -->\n      <g transform=\"translate(7.2 27.935833)scale(0.1 -0.1)\">\n       <use xlink:href=\"#DejaVuSans-38\"/>\n      </g>\n     </g>\n    </g>\n   </g>\n   <g id=\"line2d_14\">\n    <path d=\"M 35.780682 185.14991 \nL 36.08535 133.075405 \nL 36.390018 17.083636 \nL 36.694687 93.097875 \nL 36.999355 92.379383 \nL 37.608692 178.545317 \nL 37.91336 191.07616 \nL 38.218028 195.604055 \nL 38.522697 197.685235 \nL 38.827365 198.705913 \nL 39.436701 199.674072 \nL 40.350706 200.438112 \nL 43.397389 202.469229 \nL 47.358077 204.878949 \nL 50.40476 206.498107 \nL 53.451443 207.86647 \nL 56.498127 208.986344 \nL 59.849478 209.967563 \nL 63.505498 210.798199 \nL 67.770854 211.531296 \nL 72.950215 212.182115 \nL 79.348249 212.748123 \nL 87.574294 213.239159 \nL 98.542353 213.658725 \nL 114.080436 214.01503 \nL 137.539896 214.309418 \nL 175.623434 214.539938 \nL 243.564466 214.70094 \nL 340.144318 214.756364 \nL 340.144318 214.756364 \n\" clip-path=\"url(#pfe5ee83f53)\" style=\"fill: none; stroke: #1f77b4; stroke-width: 1.5; stroke-linecap: square\"/>\n   </g>\n   <g id=\"patch_3\">\n    <path d=\"M 20.5625 224.64 \nL 20.5625 7.2 \n\" style=\"fill: none; stroke: #000000; stroke-width: 0.8; stroke-linejoin: miter; stroke-linecap: square\"/>\n   </g>\n   <g id=\"patch_4\">\n    <path d=\"M 355.3625 224.64 \nL 355.3625 7.2 \n\" style=\"fill: none; stroke: #000000; stroke-width: 0.8; stroke-linejoin: miter; stroke-linecap: square\"/>\n   </g>\n   <g id=\"patch_5\">\n    <path d=\"M 20.5625 224.64 \nL 355.3625 224.64 \n\" style=\"fill: none; stroke: #000000; stroke-width: 0.8; stroke-linejoin: miter; stroke-linecap: square\"/>\n   </g>\n   <g id=\"patch_6\">\n    <path d=\"M 20.5625 7.2 \nL 355.3625 7.2 \n\" style=\"fill: none; stroke: #000000; stroke-width: 0.8; stroke-linejoin: miter; stroke-linecap: square\"/>\n   </g>\n  </g>\n </g>\n <defs>\n  <clipPath id=\"pfe5ee83f53\">\n   <rect x=\"20.5625\" y=\"7.2\" width=\"334.8\" height=\"217.44\"/>\n  </clipPath>\n </defs>\n</svg>\n",
      "text/plain": [
       "<Figure size 432x288 with 1 Axes>"
      ]
     },
     "metadata": {
      "needs_background": "light"
     },
     "output_type": "display_data"
    }
   ],
   "source": [
    "axes = plt.figure().add_subplot()\n",
    "axes.plot(loss_list)\n",
    "plt.show()"
   ]
  },
  {
   "attachments": {},
   "cell_type": "markdown",
   "metadata": {},
   "source": [
    "## MNIST 手写数字识别"
   ]
  },
  {
   "cell_type": "code",
   "execution_count": 26,
   "metadata": {},
   "outputs": [],
   "source": [
    "x_train, x_test, t_train, t_test = dataset.load_mnist()"
   ]
  },
  {
   "cell_type": "code",
   "execution_count": 27,
   "metadata": {},
   "outputs": [],
   "source": [
    "net = TwoLayer(784, 13, 10)"
   ]
  },
  {
   "cell_type": "code",
   "execution_count": 28,
   "metadata": {},
   "outputs": [
    {
     "name": "stderr",
     "output_type": "stream",
     "text": [
      "Epoch 0: 100%|██████████| 1/1 [00:01<00:00,  1.55s/it, acc=20.00%, loss=7.000, lr=0.500]\n",
      "Epoch 1: 100%|██████████| 1/1 [00:01<00:00,  1.52s/it, acc=20.00%, loss=5.369, lr=0.500]\n",
      "Epoch 2: 100%|██████████| 1/1 [00:01<00:00,  1.33s/it, acc=20.00%, loss=4.363, lr=0.428]\n",
      "Epoch 3: 100%|██████████| 1/1 [00:01<00:00,  1.34s/it, acc=20.00%, loss=3.764, lr=0.365]\n",
      "Epoch 4: 100%|██████████| 1/1 [00:01<00:00,  1.28s/it, acc=20.00%, loss=3.385, lr=0.325]\n",
      "Epoch 5: 100%|██████████| 1/1 [00:01<00:00,  1.33s/it, acc=40.00%, loss=3.132, lr=0.298]\n",
      "Epoch 6: 100%|██████████| 1/1 [00:01<00:00,  1.33s/it, acc=40.00%, loss=2.955, lr=0.278]\n",
      "Epoch 7: 100%|██████████| 1/1 [00:01<00:00,  1.31s/it, acc=40.00%, loss=2.826, lr=0.263]\n",
      "Epoch 8: 100%|██████████| 1/1 [00:01<00:00,  1.37s/it, acc=80.00%, loss=2.728, lr=0.251]\n",
      "Epoch 9: 100%|██████████| 1/1 [00:01<00:00,  1.33s/it, acc=80.00%, loss=2.651, lr=0.241]\n",
      "Epoch 10: 100%|██████████| 1/1 [00:01<00:00,  1.32s/it, acc=80.00%, loss=2.587, lr=0.233]\n",
      "Epoch 11: 100%|██████████| 1/1 [00:01<00:00,  1.42s/it, acc=80.00%, loss=2.534, lr=0.226]\n",
      "Epoch 12: 100%|██████████| 1/1 [00:01<00:00,  1.54s/it, acc=80.00%, loss=2.489, lr=0.219]\n",
      "Epoch 13: 100%|██████████| 1/1 [00:01<00:00,  1.36s/it, acc=100.00%, loss=2.450, lr=0.213]\n",
      "Epoch 14: 100%|██████████| 1/1 [00:01<00:00,  1.29s/it, acc=100.00%, loss=2.416, lr=0.208]\n",
      "Epoch 15: 100%|██████████| 1/1 [00:01<00:00,  1.28s/it, acc=100.00%, loss=2.386, lr=0.203]\n",
      "Epoch 16: 100%|██████████| 1/1 [00:01<00:00,  1.28s/it, acc=100.00%, loss=2.360, lr=0.198]\n",
      "Epoch 17: 100%|██████████| 1/1 [00:01<00:00,  1.30s/it, acc=100.00%, loss=2.336, lr=0.194]\n",
      "Epoch 18: 100%|██████████| 1/1 [00:01<00:00,  1.28s/it, acc=100.00%, loss=2.315, lr=0.190]\n",
      "Epoch 19: 100%|██████████| 1/1 [00:01<00:00,  1.27s/it, acc=100.00%, loss=2.295, lr=0.186]\n",
      "Epoch 20: 100%|██████████| 1/1 [00:01<00:00,  1.28s/it, acc=100.00%, loss=2.277, lr=0.182]\n",
      "Epoch 21: 100%|██████████| 1/1 [00:01<00:00,  1.28s/it, acc=100.00%, loss=2.261, lr=0.179]\n",
      "Epoch 22: 100%|██████████| 1/1 [00:01<00:00,  1.27s/it, acc=100.00%, loss=2.245, lr=0.175]\n",
      "Epoch 23: 100%|██████████| 1/1 [00:01<00:00,  1.29s/it, acc=100.00%, loss=2.231, lr=0.172]\n",
      "Epoch 24: 100%|██████████| 1/1 [00:01<00:00,  1.29s/it, acc=100.00%, loss=2.218, lr=0.169]\n",
      "Epoch 25: 100%|██████████| 1/1 [00:01<00:00,  1.28s/it, acc=100.00%, loss=2.205, lr=0.165]\n",
      "Epoch 26: 100%|██████████| 1/1 [00:01<00:00,  1.29s/it, acc=100.00%, loss=2.194, lr=0.162]\n",
      "Epoch 27: 100%|██████████| 1/1 [00:01<00:00,  1.43s/it, acc=100.00%, loss=2.183, lr=0.159]\n",
      "Epoch 28: 100%|██████████| 1/1 [00:01<00:00,  1.39s/it, acc=100.00%, loss=2.173, lr=0.156]\n",
      "Epoch 29: 100%|██████████| 1/1 [00:01<00:00,  1.45s/it, acc=100.00%, loss=2.163, lr=0.154]\n",
      "Epoch 30: 100%|██████████| 1/1 [00:01<00:00,  1.50s/it, acc=100.00%, loss=2.154, lr=0.151]\n",
      "Epoch 31: 100%|██████████| 1/1 [00:01<00:00,  1.59s/it, acc=100.00%, loss=2.145, lr=0.148]\n",
      "Epoch 32: 100%|██████████| 1/1 [00:01<00:00,  1.27s/it, acc=100.00%, loss=2.137, lr=0.145]\n",
      "Epoch 33: 100%|██████████| 1/1 [00:01<00:00,  1.26s/it, acc=100.00%, loss=2.129, lr=0.143]\n",
      "Epoch 34: 100%|██████████| 1/1 [00:01<00:00,  1.27s/it, acc=100.00%, loss=2.121, lr=0.140]\n",
      "Epoch 35: 100%|██████████| 1/1 [00:01<00:00,  1.26s/it, acc=100.00%, loss=2.114, lr=0.137]\n",
      "Epoch 36: 100%|██████████| 1/1 [00:01<00:00,  1.26s/it, acc=100.00%, loss=2.108, lr=0.135]\n",
      "Epoch 37: 100%|██████████| 1/1 [00:01<00:00,  1.28s/it, acc=100.00%, loss=2.101, lr=0.132]\n",
      "Epoch 38: 100%|██████████| 1/1 [00:01<00:00,  1.28s/it, acc=100.00%, loss=2.095, lr=0.130]\n",
      "Epoch 39: 100%|██████████| 1/1 [00:01<00:00,  1.28s/it, acc=100.00%, loss=2.089, lr=0.127]\n",
      "Epoch 40: 100%|██████████| 1/1 [00:01<00:00,  1.27s/it, acc=100.00%, loss=2.084, lr=0.125]\n",
      "Epoch 41: 100%|██████████| 1/1 [00:01<00:00,  1.28s/it, acc=100.00%, loss=2.078, lr=0.123]\n",
      "Epoch 42: 100%|██████████| 1/1 [00:01<00:00,  1.26s/it, acc=100.00%, loss=2.073, lr=0.120]\n",
      "Epoch 43: 100%|██████████| 1/1 [00:01<00:00,  1.33s/it, acc=100.00%, loss=2.068, lr=0.118]\n",
      "Epoch 44: 100%|██████████| 1/1 [00:01<00:00,  1.27s/it, acc=100.00%, loss=2.064, lr=0.116]\n",
      "Epoch 45: 100%|██████████| 1/1 [00:01<00:00,  1.27s/it, acc=100.00%, loss=2.059, lr=0.113]\n",
      "Epoch 46: 100%|██████████| 1/1 [00:01<00:00,  1.24s/it, acc=100.00%, loss=2.055, lr=0.111]\n",
      "Epoch 47: 100%|██████████| 1/1 [00:01<00:00,  1.25s/it, acc=100.00%, loss=2.051, lr=0.109]\n",
      "Epoch 48: 100%|██████████| 1/1 [00:01<00:00,  1.26s/it, acc=100.00%, loss=2.047, lr=0.106]\n",
      "Epoch 49: 100%|██████████| 1/1 [00:01<00:00,  1.28s/it, acc=100.00%, loss=2.043, lr=0.104]\n",
      "Epoch 50: 100%|██████████| 1/1 [00:01<00:00,  1.25s/it, acc=100.00%, loss=2.039, lr=0.102]\n",
      "Epoch 51: 100%|██████████| 1/1 [00:01<00:00,  1.25s/it, acc=100.00%, loss=2.036, lr=0.100]\n",
      "Epoch 52: 100%|██████████| 1/1 [00:01<00:00,  1.25s/it, acc=100.00%, loss=2.033, lr=0.098]\n",
      "Epoch 53: 100%|██████████| 1/1 [00:01<00:00,  1.29s/it, acc=100.00%, loss=2.029, lr=0.095]\n",
      "Epoch 54: 100%|██████████| 1/1 [00:01<00:00,  1.25s/it, acc=100.00%, loss=2.026, lr=0.093]\n",
      "Epoch 55: 100%|██████████| 1/1 [00:01<00:00,  1.28s/it, acc=100.00%, loss=2.023, lr=0.091]\n",
      "Epoch 56: 100%|██████████| 1/1 [00:01<00:00,  1.33s/it, acc=100.00%, loss=2.020, lr=0.089]\n",
      "Epoch 57: 100%|██████████| 1/1 [00:01<00:00,  1.35s/it, acc=100.00%, loss=2.018, lr=0.087]\n",
      "Epoch 58: 100%|██████████| 1/1 [00:01<00:00,  1.59s/it, acc=100.00%, loss=2.015, lr=0.085]\n",
      "Epoch 59: 100%|██████████| 1/1 [00:01<00:00,  1.53s/it, acc=100.00%, loss=2.012, lr=0.083]\n",
      "Epoch 60: 100%|██████████| 1/1 [00:01<00:00,  1.33s/it, acc=100.00%, loss=2.010, lr=0.080]\n",
      "Epoch 61: 100%|██████████| 1/1 [00:01<00:00,  1.26s/it, acc=100.00%, loss=2.008, lr=0.078]\n",
      "Epoch 62: 100%|██████████| 1/1 [00:01<00:00,  1.25s/it, acc=100.00%, loss=2.005, lr=0.076]\n",
      "Epoch 63: 100%|██████████| 1/1 [00:01<00:00,  1.26s/it, acc=100.00%, loss=2.003, lr=0.074]\n",
      "Epoch 64: 100%|██████████| 1/1 [00:01<00:00,  1.25s/it, acc=100.00%, loss=2.001, lr=0.072]\n",
      "Epoch 65: 100%|██████████| 1/1 [00:01<00:00,  1.26s/it, acc=100.00%, loss=1.999, lr=0.070]\n",
      "Epoch 66: 100%|██████████| 1/1 [00:01<00:00,  1.25s/it, acc=100.00%, loss=1.997, lr=0.068]\n",
      "Epoch 67: 100%|██████████| 1/1 [00:01<00:00,  1.28s/it, acc=100.00%, loss=1.995, lr=0.066]\n",
      "Epoch 68: 100%|██████████| 1/1 [00:01<00:00,  1.24s/it, acc=100.00%, loss=1.993, lr=0.064]\n",
      "Epoch 69: 100%|██████████| 1/1 [00:01<00:00,  1.28s/it, acc=100.00%, loss=1.992, lr=0.062]\n",
      "Epoch 70: 100%|██████████| 1/1 [00:01<00:00,  1.27s/it, acc=100.00%, loss=1.990, lr=0.060]\n",
      "Epoch 71: 100%|██████████| 1/1 [00:01<00:00,  1.26s/it, acc=100.00%, loss=1.989, lr=0.058]\n",
      "Epoch 72: 100%|██████████| 1/1 [00:01<00:00,  1.52s/it, acc=100.00%, loss=1.987, lr=0.056]\n",
      "Epoch 73: 100%|██████████| 1/1 [00:01<00:00,  1.40s/it, acc=100.00%, loss=1.986, lr=0.054]\n",
      "Epoch 74: 100%|██████████| 1/1 [00:01<00:00,  1.26s/it, acc=100.00%, loss=1.984, lr=0.052]\n",
      "Epoch 75: 100%|██████████| 1/1 [00:01<00:00,  1.40s/it, acc=100.00%, loss=1.983, lr=0.050]\n",
      "Epoch 76: 100%|██████████| 1/1 [00:01<00:00,  1.33s/it, acc=100.00%, loss=1.982, lr=0.048]\n",
      "Epoch 77: 100%|██████████| 1/1 [00:01<00:00,  1.27s/it, acc=100.00%, loss=1.980, lr=0.046]\n",
      "Epoch 78: 100%|██████████| 1/1 [00:01<00:00,  1.29s/it, acc=100.00%, loss=1.979, lr=0.044]\n",
      "Epoch 79: 100%|██████████| 1/1 [00:01<00:00,  1.26s/it, acc=100.00%, loss=1.978, lr=0.042]\n",
      "Epoch 80: 100%|██████████| 1/1 [00:01<00:00,  1.25s/it, acc=100.00%, loss=1.977, lr=0.040]\n",
      "Epoch 81: 100%|██████████| 1/1 [00:01<00:00,  1.33s/it, acc=100.00%, loss=1.976, lr=0.038]\n",
      "Epoch 82: 100%|██████████| 1/1 [00:01<00:00,  1.27s/it, acc=100.00%, loss=1.975, lr=0.036]\n",
      "Epoch 83: 100%|██████████| 1/1 [00:01<00:00,  1.26s/it, acc=100.00%, loss=1.975, lr=0.034]\n",
      "Epoch 84: 100%|██████████| 1/1 [00:01<00:00,  1.26s/it, acc=100.00%, loss=1.974, lr=0.032]\n",
      "Epoch 85: 100%|██████████| 1/1 [00:01<00:00,  1.28s/it, acc=100.00%, loss=1.973, lr=0.030]\n",
      "Epoch 86: 100%|██████████| 1/1 [00:01<00:00,  1.27s/it, acc=100.00%, loss=1.972, lr=0.028]\n",
      "Epoch 87: 100%|██████████| 1/1 [00:01<00:00,  1.26s/it, acc=100.00%, loss=1.972, lr=0.026]\n",
      "Epoch 88: 100%|██████████| 1/1 [00:01<00:00,  1.27s/it, acc=100.00%, loss=1.971, lr=0.024]\n",
      "Epoch 89: 100%|██████████| 1/1 [00:01<00:00,  1.29s/it, acc=100.00%, loss=1.970, lr=0.022]\n",
      "Epoch 90: 100%|██████████| 1/1 [00:01<00:00,  1.28s/it, acc=100.00%, loss=1.970, lr=0.020]\n",
      "Epoch 91: 100%|██████████| 1/1 [00:01<00:00,  1.29s/it, acc=100.00%, loss=1.969, lr=0.018]\n",
      "Epoch 92: 100%|██████████| 1/1 [00:01<00:00,  1.29s/it, acc=100.00%, loss=1.969, lr=0.016]\n",
      "Epoch 93: 100%|██████████| 1/1 [00:01<00:00,  1.31s/it, acc=100.00%, loss=1.969, lr=0.014]\n",
      "Epoch 94: 100%|██████████| 1/1 [00:01<00:00,  1.37s/it, acc=100.00%, loss=1.968, lr=0.012]\n",
      "Epoch 95: 100%|██████████| 1/1 [00:01<00:00,  1.66s/it, acc=100.00%, loss=1.968, lr=0.010]\n",
      "Epoch 96: 100%|██████████| 1/1 [00:01<00:00,  1.31s/it, acc=100.00%, loss=1.968, lr=0.008]\n",
      "Epoch 97: 100%|██████████| 1/1 [00:01<00:00,  1.32s/it, acc=100.00%, loss=1.968, lr=0.006]\n",
      "Epoch 98: 100%|██████████| 1/1 [00:01<00:00,  1.29s/it, acc=100.00%, loss=1.968, lr=0.004]\n",
      "Epoch 99: 100%|██████████| 1/1 [00:01<00:00,  1.26s/it, acc=100.00%, loss=1.967, lr=0.002]\n"
     ]
    }
   ],
   "source": [
    "np.seterr(all=\"ignore\")\n",
    "\n",
    "loss_list = []\n",
    "\n",
    "epoch = 100\n",
    "lr = 0.1\n",
    "batch_size = 5  # 数量大的话太慢了，我这破机器\n",
    "train_size = 5\n",
    "\n",
    "for e in range(epoch):\n",
    "\n",
    "    bar = tqdm(range(train_size // batch_size))\n",
    "    bar.set_description(f\"Epoch {e}\")\n",
    "\n",
    "    indices = list(range(train_size))\n",
    "    total = 0\n",
    "    right = 0\n",
    "\n",
    "    for _ in bar:\n",
    "\n",
    "        batch_mask = np.random.choice(indices, batch_size, replace=False)\n",
    "        for var in batch_mask:\n",
    "            indices.remove(var)\n",
    "\n",
    "        x = x_train[batch_mask]\n",
    "        t = t_train[batch_mask]\n",
    "\n",
    "        net.gradient(x, t)\n",
    "\n",
    "        for key in ('w1', 'b1', 'w2', 'b2'):\n",
    "            attr = getattr(net, key)\n",
    "            grad = getattr(net, f'grad_{key}')\n",
    "            attr -= lr * grad\n",
    "\n",
    "        y = net.forward(x)\n",
    "        r = np.argmax(y, axis=1)\n",
    "\n",
    "        total += x.shape[0]\n",
    "        right += np.sum(r == t)\n",
    "\n",
    "        loss = learning.cross_entropy_error(y, t)\n",
    "        loss_list.append(loss)\n",
    "\n",
    "        lr = loss * 0.1 * (epoch - e) / epoch\n",
    "        lr = lr if lr < 0.5 else 0.5\n",
    "\n",
    "        acc = right / total * 100\n",
    "\n",
    "        bar.set_postfix(dict(acc=f'{acc:.2f}%', loss=f'{loss:.3f}', lr=f'{lr:.3f}'))\n"
   ]
  },
  {
   "cell_type": "code",
   "execution_count": 29,
   "metadata": {},
   "outputs": [
    {
     "data": {
      "image/svg+xml": "<?xml version=\"1.0\" encoding=\"utf-8\" standalone=\"no\"?>\n<!DOCTYPE svg PUBLIC \"-//W3C//DTD SVG 1.1//EN\"\n  \"http://www.w3.org/Graphics/SVG/1.1/DTD/svg11.dtd\">\n<svg xmlns:xlink=\"http://www.w3.org/1999/xlink\" width=\"362.5625pt\" height=\"248.518125pt\" viewBox=\"0 0 362.5625 248.518125\" xmlns=\"http://www.w3.org/2000/svg\" version=\"1.1\">\n <metadata>\n  <rdf:RDF xmlns:dc=\"http://purl.org/dc/elements/1.1/\" xmlns:cc=\"http://creativecommons.org/ns#\" xmlns:rdf=\"http://www.w3.org/1999/02/22-rdf-syntax-ns#\">\n   <cc:Work>\n    <dc:type rdf:resource=\"http://purl.org/dc/dcmitype/StillImage\"/>\n    <dc:date>2023-01-14T06:08:19.911162</dc:date>\n    <dc:format>image/svg+xml</dc:format>\n    <dc:creator>\n     <cc:Agent>\n      <dc:title>Matplotlib v3.5.1, https://matplotlib.org/</dc:title>\n     </cc:Agent>\n    </dc:creator>\n   </cc:Work>\n  </rdf:RDF>\n </metadata>\n <defs>\n  <style type=\"text/css\">*{stroke-linejoin: round; stroke-linecap: butt}</style>\n </defs>\n <g id=\"figure_1\">\n  <g id=\"patch_1\">\n   <path d=\"M 0 248.518125 \nL 362.5625 248.518125 \nL 362.5625 0 \nL 0 0 \nL 0 248.518125 \nz\n\" style=\"fill: none\"/>\n  </g>\n  <g id=\"axes_1\">\n   <g id=\"patch_2\">\n    <path d=\"M 20.5625 224.64 \nL 355.3625 224.64 \nL 355.3625 7.2 \nL 20.5625 7.2 \nz\n\" style=\"fill: #ffffff\"/>\n   </g>\n   <g id=\"matplotlib.axis_1\">\n    <g id=\"xtick_1\">\n     <g id=\"line2d_1\">\n      <defs>\n       <path id=\"m55f8e9d87f\" d=\"M 0 0 \nL 0 3.5 \n\" style=\"stroke: #000000; stroke-width: 0.8\"/>\n      </defs>\n      <g>\n       <use xlink:href=\"#m55f8e9d87f\" x=\"35.780682\" y=\"224.64\" style=\"stroke: #000000; stroke-width: 0.8\"/>\n      </g>\n     </g>\n     <g id=\"text_1\">\n      <!-- 0 -->\n      <g transform=\"translate(32.599432 239.238437)scale(0.1 -0.1)\">\n       <defs>\n        <path id=\"DejaVuSans-30\" d=\"M 2034 4250 \nQ 1547 4250 1301 3770 \nQ 1056 3291 1056 2328 \nQ 1056 1369 1301 889 \nQ 1547 409 2034 409 \nQ 2525 409 2770 889 \nQ 3016 1369 3016 2328 \nQ 3016 3291 2770 3770 \nQ 2525 4250 2034 4250 \nz\nM 2034 4750 \nQ 2819 4750 3233 4129 \nQ 3647 3509 3647 2328 \nQ 3647 1150 3233 529 \nQ 2819 -91 2034 -91 \nQ 1250 -91 836 529 \nQ 422 1150 422 2328 \nQ 422 3509 836 4129 \nQ 1250 4750 2034 4750 \nz\n\" transform=\"scale(0.015625)\"/>\n       </defs>\n       <use xlink:href=\"#DejaVuSans-30\"/>\n      </g>\n     </g>\n    </g>\n    <g id=\"xtick_2\">\n     <g id=\"line2d_2\">\n      <g>\n       <use xlink:href=\"#m55f8e9d87f\" x=\"97.268285\" y=\"224.64\" style=\"stroke: #000000; stroke-width: 0.8\"/>\n      </g>\n     </g>\n     <g id=\"text_2\">\n      <!-- 20 -->\n      <g transform=\"translate(90.905785 239.238437)scale(0.1 -0.1)\">\n       <defs>\n        <path id=\"DejaVuSans-32\" d=\"M 1228 531 \nL 3431 531 \nL 3431 0 \nL 469 0 \nL 469 531 \nQ 828 903 1448 1529 \nQ 2069 2156 2228 2338 \nQ 2531 2678 2651 2914 \nQ 2772 3150 2772 3378 \nQ 2772 3750 2511 3984 \nQ 2250 4219 1831 4219 \nQ 1534 4219 1204 4116 \nQ 875 4013 500 3803 \nL 500 4441 \nQ 881 4594 1212 4672 \nQ 1544 4750 1819 4750 \nQ 2544 4750 2975 4387 \nQ 3406 4025 3406 3419 \nQ 3406 3131 3298 2873 \nQ 3191 2616 2906 2266 \nQ 2828 2175 2409 1742 \nQ 1991 1309 1228 531 \nz\n\" transform=\"scale(0.015625)\"/>\n       </defs>\n       <use xlink:href=\"#DejaVuSans-32\"/>\n       <use xlink:href=\"#DejaVuSans-30\" x=\"63.623047\"/>\n      </g>\n     </g>\n    </g>\n    <g id=\"xtick_3\">\n     <g id=\"line2d_3\">\n      <g>\n       <use xlink:href=\"#m55f8e9d87f\" x=\"158.755888\" y=\"224.64\" style=\"stroke: #000000; stroke-width: 0.8\"/>\n      </g>\n     </g>\n     <g id=\"text_3\">\n      <!-- 40 -->\n      <g transform=\"translate(152.393388 239.238437)scale(0.1 -0.1)\">\n       <defs>\n        <path id=\"DejaVuSans-34\" d=\"M 2419 4116 \nL 825 1625 \nL 2419 1625 \nL 2419 4116 \nz\nM 2253 4666 \nL 3047 4666 \nL 3047 1625 \nL 3713 1625 \nL 3713 1100 \nL 3047 1100 \nL 3047 0 \nL 2419 0 \nL 2419 1100 \nL 313 1100 \nL 313 1709 \nL 2253 4666 \nz\n\" transform=\"scale(0.015625)\"/>\n       </defs>\n       <use xlink:href=\"#DejaVuSans-34\"/>\n       <use xlink:href=\"#DejaVuSans-30\" x=\"63.623047\"/>\n      </g>\n     </g>\n    </g>\n    <g id=\"xtick_4\">\n     <g id=\"line2d_4\">\n      <g>\n       <use xlink:href=\"#m55f8e9d87f\" x=\"220.243492\" y=\"224.64\" style=\"stroke: #000000; stroke-width: 0.8\"/>\n      </g>\n     </g>\n     <g id=\"text_4\">\n      <!-- 60 -->\n      <g transform=\"translate(213.880992 239.238437)scale(0.1 -0.1)\">\n       <defs>\n        <path id=\"DejaVuSans-36\" d=\"M 2113 2584 \nQ 1688 2584 1439 2293 \nQ 1191 2003 1191 1497 \nQ 1191 994 1439 701 \nQ 1688 409 2113 409 \nQ 2538 409 2786 701 \nQ 3034 994 3034 1497 \nQ 3034 2003 2786 2293 \nQ 2538 2584 2113 2584 \nz\nM 3366 4563 \nL 3366 3988 \nQ 3128 4100 2886 4159 \nQ 2644 4219 2406 4219 \nQ 1781 4219 1451 3797 \nQ 1122 3375 1075 2522 \nQ 1259 2794 1537 2939 \nQ 1816 3084 2150 3084 \nQ 2853 3084 3261 2657 \nQ 3669 2231 3669 1497 \nQ 3669 778 3244 343 \nQ 2819 -91 2113 -91 \nQ 1303 -91 875 529 \nQ 447 1150 447 2328 \nQ 447 3434 972 4092 \nQ 1497 4750 2381 4750 \nQ 2619 4750 2861 4703 \nQ 3103 4656 3366 4563 \nz\n\" transform=\"scale(0.015625)\"/>\n       </defs>\n       <use xlink:href=\"#DejaVuSans-36\"/>\n       <use xlink:href=\"#DejaVuSans-30\" x=\"63.623047\"/>\n      </g>\n     </g>\n    </g>\n    <g id=\"xtick_5\">\n     <g id=\"line2d_5\">\n      <g>\n       <use xlink:href=\"#m55f8e9d87f\" x=\"281.731095\" y=\"224.64\" style=\"stroke: #000000; stroke-width: 0.8\"/>\n      </g>\n     </g>\n     <g id=\"text_5\">\n      <!-- 80 -->\n      <g transform=\"translate(275.368595 239.238437)scale(0.1 -0.1)\">\n       <defs>\n        <path id=\"DejaVuSans-38\" d=\"M 2034 2216 \nQ 1584 2216 1326 1975 \nQ 1069 1734 1069 1313 \nQ 1069 891 1326 650 \nQ 1584 409 2034 409 \nQ 2484 409 2743 651 \nQ 3003 894 3003 1313 \nQ 3003 1734 2745 1975 \nQ 2488 2216 2034 2216 \nz\nM 1403 2484 \nQ 997 2584 770 2862 \nQ 544 3141 544 3541 \nQ 544 4100 942 4425 \nQ 1341 4750 2034 4750 \nQ 2731 4750 3128 4425 \nQ 3525 4100 3525 3541 \nQ 3525 3141 3298 2862 \nQ 3072 2584 2669 2484 \nQ 3125 2378 3379 2068 \nQ 3634 1759 3634 1313 \nQ 3634 634 3220 271 \nQ 2806 -91 2034 -91 \nQ 1263 -91 848 271 \nQ 434 634 434 1313 \nQ 434 1759 690 2068 \nQ 947 2378 1403 2484 \nz\nM 1172 3481 \nQ 1172 3119 1398 2916 \nQ 1625 2713 2034 2713 \nQ 2441 2713 2670 2916 \nQ 2900 3119 2900 3481 \nQ 2900 3844 2670 4047 \nQ 2441 4250 2034 4250 \nQ 1625 4250 1398 4047 \nQ 1172 3844 1172 3481 \nz\n\" transform=\"scale(0.015625)\"/>\n       </defs>\n       <use xlink:href=\"#DejaVuSans-38\"/>\n       <use xlink:href=\"#DejaVuSans-30\" x=\"63.623047\"/>\n      </g>\n     </g>\n    </g>\n    <g id=\"xtick_6\">\n     <g id=\"line2d_6\">\n      <g>\n       <use xlink:href=\"#m55f8e9d87f\" x=\"343.218698\" y=\"224.64\" style=\"stroke: #000000; stroke-width: 0.8\"/>\n      </g>\n     </g>\n     <g id=\"text_6\">\n      <!-- 100 -->\n      <g transform=\"translate(333.674948 239.238437)scale(0.1 -0.1)\">\n       <defs>\n        <path id=\"DejaVuSans-31\" d=\"M 794 531 \nL 1825 531 \nL 1825 4091 \nL 703 3866 \nL 703 4441 \nL 1819 4666 \nL 2450 4666 \nL 2450 531 \nL 3481 531 \nL 3481 0 \nL 794 0 \nL 794 531 \nz\n\" transform=\"scale(0.015625)\"/>\n       </defs>\n       <use xlink:href=\"#DejaVuSans-31\"/>\n       <use xlink:href=\"#DejaVuSans-30\" x=\"63.623047\"/>\n       <use xlink:href=\"#DejaVuSans-30\" x=\"127.246094\"/>\n      </g>\n     </g>\n    </g>\n   </g>\n   <g id=\"matplotlib.axis_2\">\n    <g id=\"ytick_1\">\n     <g id=\"line2d_7\">\n      <defs>\n       <path id=\"m0c64fe26b9\" d=\"M 0 0 \nL -3.5 0 \n\" style=\"stroke: #000000; stroke-width: 0.8\"/>\n      </defs>\n      <g>\n       <use xlink:href=\"#m0c64fe26b9\" x=\"20.5625\" y=\"213.478033\" style=\"stroke: #000000; stroke-width: 0.8\"/>\n      </g>\n     </g>\n     <g id=\"text_7\">\n      <!-- 2 -->\n      <g transform=\"translate(7.2 217.277252)scale(0.1 -0.1)\">\n       <use xlink:href=\"#DejaVuSans-32\"/>\n      </g>\n     </g>\n    </g>\n    <g id=\"ytick_2\">\n     <g id=\"line2d_8\">\n      <g>\n       <use xlink:href=\"#m0c64fe26b9\" x=\"20.5625\" y=\"174.201083\" style=\"stroke: #000000; stroke-width: 0.8\"/>\n      </g>\n     </g>\n     <g id=\"text_8\">\n      <!-- 3 -->\n      <g transform=\"translate(7.2 178.000302)scale(0.1 -0.1)\">\n       <defs>\n        <path id=\"DejaVuSans-33\" d=\"M 2597 2516 \nQ 3050 2419 3304 2112 \nQ 3559 1806 3559 1356 \nQ 3559 666 3084 287 \nQ 2609 -91 1734 -91 \nQ 1441 -91 1130 -33 \nQ 819 25 488 141 \nL 488 750 \nQ 750 597 1062 519 \nQ 1375 441 1716 441 \nQ 2309 441 2620 675 \nQ 2931 909 2931 1356 \nQ 2931 1769 2642 2001 \nQ 2353 2234 1838 2234 \nL 1294 2234 \nL 1294 2753 \nL 1863 2753 \nQ 2328 2753 2575 2939 \nQ 2822 3125 2822 3475 \nQ 2822 3834 2567 4026 \nQ 2313 4219 1838 4219 \nQ 1578 4219 1281 4162 \nQ 984 4106 628 3988 \nL 628 4550 \nQ 988 4650 1302 4700 \nQ 1616 4750 1894 4750 \nQ 2613 4750 3031 4423 \nQ 3450 4097 3450 3541 \nQ 3450 3153 3228 2886 \nQ 3006 2619 2597 2516 \nz\n\" transform=\"scale(0.015625)\"/>\n       </defs>\n       <use xlink:href=\"#DejaVuSans-33\"/>\n      </g>\n     </g>\n    </g>\n    <g id=\"ytick_3\">\n     <g id=\"line2d_9\">\n      <g>\n       <use xlink:href=\"#m0c64fe26b9\" x=\"20.5625\" y=\"134.924133\" style=\"stroke: #000000; stroke-width: 0.8\"/>\n      </g>\n     </g>\n     <g id=\"text_9\">\n      <!-- 4 -->\n      <g transform=\"translate(7.2 138.723351)scale(0.1 -0.1)\">\n       <use xlink:href=\"#DejaVuSans-34\"/>\n      </g>\n     </g>\n    </g>\n    <g id=\"ytick_4\">\n     <g id=\"line2d_10\">\n      <g>\n       <use xlink:href=\"#m0c64fe26b9\" x=\"20.5625\" y=\"95.647183\" style=\"stroke: #000000; stroke-width: 0.8\"/>\n      </g>\n     </g>\n     <g id=\"text_10\">\n      <!-- 5 -->\n      <g transform=\"translate(7.2 99.446401)scale(0.1 -0.1)\">\n       <defs>\n        <path id=\"DejaVuSans-35\" d=\"M 691 4666 \nL 3169 4666 \nL 3169 4134 \nL 1269 4134 \nL 1269 2991 \nQ 1406 3038 1543 3061 \nQ 1681 3084 1819 3084 \nQ 2600 3084 3056 2656 \nQ 3513 2228 3513 1497 \nQ 3513 744 3044 326 \nQ 2575 -91 1722 -91 \nQ 1428 -91 1123 -41 \nQ 819 9 494 109 \nL 494 744 \nQ 775 591 1075 516 \nQ 1375 441 1709 441 \nQ 2250 441 2565 725 \nQ 2881 1009 2881 1497 \nQ 2881 1984 2565 2268 \nQ 2250 2553 1709 2553 \nQ 1456 2553 1204 2497 \nQ 953 2441 691 2322 \nL 691 4666 \nz\n\" transform=\"scale(0.015625)\"/>\n       </defs>\n       <use xlink:href=\"#DejaVuSans-35\"/>\n      </g>\n     </g>\n    </g>\n    <g id=\"ytick_5\">\n     <g id=\"line2d_11\">\n      <g>\n       <use xlink:href=\"#m0c64fe26b9\" x=\"20.5625\" y=\"56.370232\" style=\"stroke: #000000; stroke-width: 0.8\"/>\n      </g>\n     </g>\n     <g id=\"text_11\">\n      <!-- 6 -->\n      <g transform=\"translate(7.2 60.169451)scale(0.1 -0.1)\">\n       <use xlink:href=\"#DejaVuSans-36\"/>\n      </g>\n     </g>\n    </g>\n    <g id=\"ytick_6\">\n     <g id=\"line2d_12\">\n      <g>\n       <use xlink:href=\"#m0c64fe26b9\" x=\"20.5625\" y=\"17.093282\" style=\"stroke: #000000; stroke-width: 0.8\"/>\n      </g>\n     </g>\n     <g id=\"text_12\">\n      <!-- 7 -->\n      <g transform=\"translate(7.2 20.892501)scale(0.1 -0.1)\">\n       <defs>\n        <path id=\"DejaVuSans-37\" d=\"M 525 4666 \nL 3525 4666 \nL 3525 4397 \nL 1831 0 \nL 1172 0 \nL 2766 4134 \nL 525 4134 \nL 525 4666 \nz\n\" transform=\"scale(0.015625)\"/>\n       </defs>\n       <use xlink:href=\"#DejaVuSans-37\"/>\n      </g>\n     </g>\n    </g>\n   </g>\n   <g id=\"line2d_13\">\n    <path d=\"M 35.780682 17.083636 \nL 38.855062 81.135837 \nL 41.929442 120.653646 \nL 45.003822 144.200258 \nL 48.078202 159.090067 \nL 51.152583 169.005122 \nL 54.226963 175.973405 \nL 57.301343 181.037654 \nL 60.375723 184.874066 \nL 63.450103 187.91402 \nL 66.524483 190.406749 \nL 69.598864 192.495735 \nL 72.673244 194.271935 \nL 75.747624 195.8 \nL 78.822004 197.129218 \nL 81.896384 198.298092 \nL 84.970764 199.336732 \nL 88.045145 200.26855 \nL 91.119525 201.111688 \nL 94.193905 201.880223 \nL 97.268285 202.58515 \nL 100.342665 203.235153 \nL 103.417045 203.837187 \nL 106.491426 204.396905 \nL 109.565806 204.918973 \nL 112.640186 205.407299 \nL 115.714566 205.865197 \nL 118.788946 206.29551 \nL 121.863326 206.700701 \nL 124.937707 207.082922 \nL 128.012087 207.444067 \nL 131.086467 207.785809 \nL 134.160847 208.109642 \nL 137.235227 208.416897 \nL 140.309607 208.708772 \nL 143.383988 208.986344 \nL 146.458368 209.250586 \nL 149.532748 209.502382 \nL 152.607128 209.742534 \nL 155.681508 209.971771 \nL 158.755888 210.190762 \nL 161.830269 210.400116 \nL 164.904649 210.600393 \nL 167.979029 210.792107 \nL 171.053409 210.97573 \nL 174.127789 211.1517 \nL 177.202169 211.320417 \nL 180.27655 211.482255 \nL 183.35093 211.637557 \nL 186.42531 211.786643 \nL 189.49969 211.929811 \nL 192.57407 212.067334 \nL 195.64845 212.199471 \nL 198.722831 212.326459 \nL 201.797211 212.448523 \nL 204.871591 212.565869 \nL 207.945971 212.678693 \nL 211.020351 212.787177 \nL 214.094731 212.89149 \nL 217.169112 212.991793 \nL 220.243492 213.088234 \nL 223.317872 213.180955 \nL 226.392252 213.270087 \nL 229.466632 213.355755 \nL 232.541012 213.438073 \nL 235.615393 213.517152 \nL 238.689773 213.593094 \nL 241.764153 213.665997 \nL 244.838533 213.735951 \nL 247.912913 213.803042 \nL 250.987293 213.867352 \nL 254.061674 213.928956 \nL 257.136054 213.987925 \nL 260.210434 214.044328 \nL 263.284814 214.098228 \nL 266.359194 214.149684 \nL 269.433574 214.198754 \nL 272.507955 214.245489 \nL 275.582335 214.289939 \nL 278.656715 214.332152 \nL 281.731095 214.37217 \nL 284.805475 214.410036 \nL 287.879855 214.445786 \nL 290.954236 214.479459 \nL 294.028616 214.511085 \nL 297.102996 214.540698 \nL 300.177376 214.568326 \nL 303.251756 214.593995 \nL 306.326136 214.617731 \nL 309.400517 214.639556 \nL 312.474897 214.65949 \nL 315.549277 214.677553 \nL 318.623657 214.693762 \nL 321.698037 214.708132 \nL 324.772417 214.720676 \nL 327.846798 214.731406 \nL 330.921178 214.740332 \nL 333.995558 214.747463 \nL 337.069938 214.752805 \nL 340.144318 214.756364 \n\" clip-path=\"url(#p29a9244c86)\" style=\"fill: none; stroke: #1f77b4; stroke-width: 1.5; stroke-linecap: square\"/>\n   </g>\n   <g id=\"patch_3\">\n    <path d=\"M 20.5625 224.64 \nL 20.5625 7.2 \n\" style=\"fill: none; stroke: #000000; stroke-width: 0.8; stroke-linejoin: miter; stroke-linecap: square\"/>\n   </g>\n   <g id=\"patch_4\">\n    <path d=\"M 355.3625 224.64 \nL 355.3625 7.2 \n\" style=\"fill: none; stroke: #000000; stroke-width: 0.8; stroke-linejoin: miter; stroke-linecap: square\"/>\n   </g>\n   <g id=\"patch_5\">\n    <path d=\"M 20.5625 224.64 \nL 355.3625 224.64 \n\" style=\"fill: none; stroke: #000000; stroke-width: 0.8; stroke-linejoin: miter; stroke-linecap: square\"/>\n   </g>\n   <g id=\"patch_6\">\n    <path d=\"M 20.5625 7.2 \nL 355.3625 7.2 \n\" style=\"fill: none; stroke: #000000; stroke-width: 0.8; stroke-linejoin: miter; stroke-linecap: square\"/>\n   </g>\n  </g>\n </g>\n <defs>\n  <clipPath id=\"p29a9244c86\">\n   <rect x=\"20.5625\" y=\"7.2\" width=\"334.8\" height=\"217.44\"/>\n  </clipPath>\n </defs>\n</svg>\n",
      "text/plain": [
       "<Figure size 432x288 with 1 Axes>"
      ]
     },
     "metadata": {
      "needs_background": "light"
     },
     "output_type": "display_data"
    }
   ],
   "source": [
    "axes = plt.figure().add_subplot()\n",
    "axes.plot(loss_list)\n",
    "plt.show()"
   ]
  },
  {
   "cell_type": "code",
   "execution_count": 30,
   "metadata": {},
   "outputs": [
    {
     "data": {
      "text/plain": [
       "1.0"
      ]
     },
     "execution_count": 30,
     "metadata": {},
     "output_type": "execute_result"
    }
   ],
   "source": [
    "net.accuracy(x, t)"
   ]
  },
  {
   "cell_type": "code",
   "execution_count": 31,
   "metadata": {},
   "outputs": [
    {
     "data": {
      "text/plain": [
       "0"
      ]
     },
     "execution_count": 31,
     "metadata": {},
     "output_type": "execute_result"
    }
   ],
   "source": [
    "y = net.forward(x[0])\n",
    "np.argmax(y)"
   ]
  },
  {
   "cell_type": "code",
   "execution_count": 32,
   "metadata": {},
   "outputs": [
    {
     "data": {
      "text/plain": [
       "(9, 3)"
      ]
     },
     "execution_count": 32,
     "metadata": {},
     "output_type": "execute_result"
    }
   ],
   "source": [
    "y = net.forward(x_test[0])\n",
    "np.argmax(y), t_test[0]"
   ]
  }
 ],
 "metadata": {
  "kernelspec": {
   "display_name": "test",
   "language": "python",
   "name": "python3"
  },
  "language_info": {
   "codemirror_mode": {
    "name": "ipython",
    "version": 3
   },
   "file_extension": ".py",
   "mimetype": "text/x-python",
   "name": "python",
   "nbconvert_exporter": "python",
   "pygments_lexer": "ipython3",
   "version": "3.7.2 (tags/v3.7.2:9a3ffc0492, Dec 23 2018, 23:09:28) [MSC v.1916 64 bit (AMD64)]"
  },
  "orig_nbformat": 4,
  "vscode": {
   "interpreter": {
    "hash": "f4a7866b55a66abc857b03408de44c5c223dfa656b814ba5aeb66f9babea1100"
   }
  }
 },
 "nbformat": 4,
 "nbformat_minor": 2
}
